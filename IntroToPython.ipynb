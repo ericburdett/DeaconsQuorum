{
  "nbformat": 4,
  "nbformat_minor": 0,
  "metadata": {
    "colab": {
      "name": "IntroToPython.ipynb",
      "provenance": [],
      "authorship_tag": "ABX9TyMeGOfnHxwNq7JfD1/xxdI9",
      "include_colab_link": true
    },
    "kernelspec": {
      "name": "python3",
      "display_name": "Python 3"
    },
    "language_info": {
      "name": "python"
    }
  },
  "cells": [
    {
      "cell_type": "markdown",
      "metadata": {
        "id": "view-in-github",
        "colab_type": "text"
      },
      "source": [
        "<a href=\"https://colab.research.google.com/github/ericburdett/DeaconsQuorum/blob/main/IntroToPython.ipynb\" target=\"_parent\"><img src=\"https://colab.research.google.com/assets/colab-badge.svg\" alt=\"Open In Colab\"/></a>"
      ]
    },
    {
      "cell_type": "markdown",
      "metadata": {
        "id": "y77Mg4dCXFpC"
      },
      "source": [
        "# Deacons Quorum - Intro to Programming with Python\n",
        "\n",
        "This notebook contains an introduction to the basics of programming in the\n",
        "Python programming language.\n",
        "\n",
        "Python is one of the simplest languages, so it's perfect for learning to\n",
        "program! When you program, you are basically just giving the computer a set of \n",
        "instructions that it will perform one right after another.\n",
        "\n",
        "Usually, you would write these instructions in a file that you would then tell\n",
        "the computer to execute. However, we're going to use a cool interface called\n",
        "jupyter that lets us run our code in *code blocks* which lets us see the results\n",
        "instantly. Once you've written your code, press the play button on the left\n",
        "side of the code block to run the code.\n",
        "\n",
        "\n",
        "\n"
      ]
    },
    {
      "cell_type": "markdown",
      "metadata": {
        "id": "eazoBBZKdIcI"
      },
      "source": [
        "## Hello World\n",
        "\n",
        "The first program every programmer writes involves printing the phrase\n",
        "*Hello World* to the screen. In python, this is pretty easy. Just use\n",
        "the *print* function."
      ]
    },
    {
      "cell_type": "code",
      "metadata": {
        "id": "4iBtxaj6XFRx"
      },
      "source": [
        "print('Hello World!')"
      ],
      "execution_count": null,
      "outputs": []
    },
    {
      "cell_type": "markdown",
      "metadata": {
        "id": "5P7jaGdGg-BJ"
      },
      "source": [
        "### Exercise #1\n",
        "Print the phrase, *This is the way!* to the screen."
      ]
    },
    {
      "cell_type": "code",
      "metadata": {
        "id": "BcJ3JWGGhFOd"
      },
      "source": [
        ""
      ],
      "execution_count": null,
      "outputs": []
    },
    {
      "cell_type": "markdown",
      "metadata": {
        "id": "zULy1JjqdNjz"
      },
      "source": [
        "## Variables & Data Types\n",
        "\n",
        "In programming, we need some sort of container to hold a piece of data\n",
        "that may or may not change over time. These simple containers are called\n",
        "*variables*.\n",
        "\n",
        "Variables can hold many different data types. Here's a list of a few of them:\n",
        "* Integers: Whole Numbers - Example: 10\n",
        "* Floats: Decimal Numbers - Example: 3.1415926\n",
        "* Strings: Text Characters/Letters or Numbers - Example: Star Wars IV: A New Hope\n",
        "* Booleans: True/False - Example: True\n",
        "* Lists: A list of any of the above data types - Example: [1, 2, 3, 5, 8, 13, 21]\n",
        "\n",
        "To create a variable in python, we can just type the name of the variable and \n",
        "assign it a value with the *=* sign. We can also print out variables with the\n",
        "*print* function."
      ]
    },
    {
      "cell_type": "code",
      "metadata": {
        "id": "X3cSbk2LkVYl"
      },
      "source": [
        "my_variable = 'Programming is cool!'\n",
        "print(my_variable)"
      ],
      "execution_count": null,
      "outputs": []
    },
    {
      "cell_type": "markdown",
      "metadata": {
        "id": "_xiPteO9klvP"
      },
      "source": [
        "We can create variables with all of the data types we mentioned earlier"
      ]
    },
    {
      "cell_type": "code",
      "metadata": {
        "colab": {
          "base_uri": "https://localhost:8080/"
        },
        "id": "65-7vNNjdUEU",
        "outputId": "0e926e0e-371f-421e-9863-16a6b59c3935"
      },
      "source": [
        "# Integer - We can create an integer just be typing the number\n",
        "var1 = 10 \n",
        "\n",
        "# Float - We can create a float just by typing the number with a decimal\n",
        "var2 = 10.5 \n",
        "\n",
        "# String - We can create a string by surrounding the text with quote marks\n",
        "var3 = 'Hello World!' \n",
        "\n",
        "# List - We can create a list by surrounding comma separated values with square brackets [].\n",
        "var4 = ['Spiritual', 'Social', 'Intellectual', 'Physical'] \n",
        "\n",
        "# Boolean - We can create a boolean by simply using the keywords True or False\n",
        "var5 = True # Boolean\n",
        "\n",
        "print('This is variable 1:', var1)\n",
        "print('This is variable 2:', var2)\n",
        "print('This is variable 3:', var3)\n",
        "print('This is variable 4:', var4)\n",
        "print('This is variable 5:', var5)"
      ],
      "execution_count": null,
      "outputs": [
        {
          "output_type": "stream",
          "text": [
            "This is variable 1: 10\n",
            "This is variable 2: 10.5\n",
            "This is variable 3: Hello World!\n",
            "This is variable 4: ['Spiritual', 'Social', 'Intellectual', 'Physical']\n"
          ],
          "name": "stdout"
        }
      ]
    },
    {
      "cell_type": "markdown",
      "metadata": {
        "id": "ZbUHc97Al4VJ"
      },
      "source": [
        "### Exercise #2\n",
        "\n",
        "Create a list that contains the following items:\n",
        "* Your Name (String)\n",
        "* Your Age (Integer)\n",
        "* Your Favorite Movie/TV-Show (String)\n",
        "* Whether or not you like SPAM (Boolean)\n",
        "\n",
        "Then print the list to the screen."
      ]
    },
    {
      "cell_type": "code",
      "metadata": {
        "id": "8mW1jqdql374"
      },
      "source": [
        ""
      ],
      "execution_count": null,
      "outputs": []
    },
    {
      "cell_type": "markdown",
      "metadata": {
        "id": "I4wIdcO1eHC_"
      },
      "source": [
        "## Math Operations\n",
        "\n",
        "In programming, we usually need to use math operations. We can add, subtract,\n",
        "multiply, and divide any number by using the *+, -, /, ** operators. "
      ]
    },
    {
      "cell_type": "code",
      "metadata": {
        "id": "kenTsVchn7WX"
      },
      "source": [
        "result = 5 + 2\n",
        "print(result)"
      ],
      "execution_count": null,
      "outputs": []
    },
    {
      "cell_type": "markdown",
      "metadata": {
        "id": "4Lg5j7ycoCAO"
      },
      "source": [
        "Here's an example with all of the operators.\n",
        "\n",
        "We'll create two variables called *num1* and *num2* to help us do the \n",
        "operations."
      ]
    },
    {
      "cell_type": "code",
      "metadata": {
        "colab": {
          "base_uri": "https://localhost:8080/"
        },
        "id": "6yknsPBMeGa9",
        "outputId": "8f375a3f-647b-4fb3-fe83-08c3ab41bf4e"
      },
      "source": [
        "num1 = 150\n",
        "num2 = 25\n",
        "\n",
        "sum = num1 + num2 # Addition\n",
        "difference = num1 - num2 # Subtraction\n",
        "quotient = num1 / num2 # Division\n",
        "product = num1 * num2 # Multiplication\n",
        "\n",
        "print('num1 + num2 =', sum)\n",
        "print('num1 - num2 =', difference)\n",
        "print('num1 / num2 =', quotient)\n",
        "print('num1 * num2 =', product)"
      ],
      "execution_count": null,
      "outputs": [
        {
          "output_type": "stream",
          "text": [
            "num1 + num2 = 175\n",
            "num1 - num2 = 125\n",
            "num1 / num2 = 6.0\n",
            "num1 * num2 = 3750\n"
          ],
          "name": "stdout"
        }
      ]
    },
    {
      "cell_type": "markdown",
      "metadata": {
        "id": "TAh6BJeRmZaM"
      },
      "source": [
        "### Exercise #3\n",
        "\n",
        "Calculate how many seconds there are in a day and print the result to the\n",
        "screen."
      ]
    },
    {
      "cell_type": "code",
      "metadata": {
        "id": "FN6jP3mHmYvB"
      },
      "source": [
        ""
      ],
      "execution_count": null,
      "outputs": []
    },
    {
      "cell_type": "markdown",
      "metadata": {
        "id": "j4ytlGA0ojwS"
      },
      "source": [
        "## Comparing Data Types\n",
        "\n",
        "Sometimes it's helpful to compare variables. Here's some of the comparison operators we can use:\n",
        "* a == b : Is a **equal** to b?\n",
        "* a != b : Is a **not equal** to b?\n",
        "* a < b : Is a **less than** b?\n",
        "* a > b : Is a **greater than** b?\n",
        "* a <= b : Is a **less than or equal to** b?\n",
        "\n",
        "The result of a comparison operator is a boolean!"
      ]
    },
    {
      "cell_type": "code",
      "metadata": {
        "id": "hwPO-BeStLiA"
      },
      "source": [
        "num1 = 10\n",
        "num2 = 20\n",
        "\n",
        "print('Is Num1 equal to Num2:', num1 == num2)\n",
        "print('Is Num1 not equal to Num2:', num1 != num2)\n",
        "print('Is Num1 greater than Num2:', num1 > num2)\n",
        "print('Is Num1 less than Num2:', num1 < num2)"
      ],
      "execution_count": null,
      "outputs": []
    },
    {
      "cell_type": "markdown",
      "metadata": {
        "id": "uwHzrdsNfVTT"
      },
      "source": [
        "## If/Else Statements\n",
        "\n",
        "Sometimes we want to tell the computer to do something *ONLY IF* a certain\n",
        "condition occurs. We can do this with the *if* keyword followed by a boolean\n",
        "value (True/False). If the boolean value is *True*, the code is run. If the\n",
        "boolean is *False*, the code doesn't run."
      ]
    },
    {
      "cell_type": "code",
      "metadata": {
        "colab": {
          "base_uri": "https://localhost:8080/"
        },
        "id": "Y55IUyEzfUeo",
        "outputId": "03d67daa-7e0e-48aa-d6e3-f66007f97b85"
      },
      "source": [
        "# Shows I think are cool.\n",
        "\n",
        "the_mandalorian_is_cool = False\n",
        "iron_man_is_cool = True\n",
        "lion_king_is_cool = False\n",
        "toy_story_is_cool = True\n",
        "\n",
        "if the_mandalorian_is_cool:\n",
        "    print('This is the way!')\n",
        "if iron_man_is_cool:\n",
        "    print('I am Iron Man.')\n",
        "if lion_king_is_cool:\n",
        "    print('Hakuna Matata. What a wonderful phrase!')\n",
        "if toy_story_is_cool:\n",
        "    print('You got a friend in me.')"
      ],
      "execution_count": null,
      "outputs": [
        {
          "output_type": "stream",
          "text": [
            "I am Iron Man.\n",
            "You got a friend in me.\n"
          ],
          "name": "stdout"
        }
      ]
    },
    {
      "cell_type": "markdown",
      "metadata": {
        "id": "nbn87PpuiHpd"
      },
      "source": [
        "You can use the *not* keyword to *Negate* booleans."
      ]
    },
    {
      "cell_type": "code",
      "metadata": {
        "colab": {
          "base_uri": "https://localhost:8080/"
        },
        "id": "yTCyNKSmiF_D",
        "outputId": "dbb7e83d-cf99-432a-bf96-f5d4f98bec83"
      },
      "source": [
        "my_boolean = True\n",
        "\n",
        "opposite_boolean = not my_boolean\n",
        "\n",
        "print('Opposite of what you entered:', opposite_boolean)"
      ],
      "execution_count": null,
      "outputs": [
        {
          "output_type": "stream",
          "text": [
            "Opposite of what you entered: False\n"
          ],
          "name": "stdout"
        }
      ]
    },
    {
      "cell_type": "markdown",
      "metadata": {
        "id": "RsNfiY8IqZD4"
      },
      "source": [
        "When using the *else* keyword, you can provide other code that should run if the boolean value isn't true."
      ]
    },
    {
      "cell_type": "code",
      "metadata": {
        "colab": {
          "base_uri": "https://localhost:8080/"
        },
        "id": "brWVlmzYjaAX",
        "outputId": "1a4a072d-7d68-4ee5-bdfb-6d33776106e1"
      },
      "source": [
        "the_mandalorian_is_dumb = True\n",
        "\n",
        "if not the_mandalorian_is_dumb:\n",
        "    print('Correct!')\n",
        "else:\n",
        "    print('Wrong! I don\\'t think you\\'ve actually watched it.')"
      ],
      "execution_count": null,
      "outputs": [
        {
          "output_type": "stream",
          "text": [
            "Wrong! I don't think you've actually watched it.\n"
          ],
          "name": "stdout"
        }
      ]
    },
    {
      "cell_type": "markdown",
      "metadata": {
        "id": "KsZO5N0wrL8T"
      },
      "source": [
        "You can also use the keyword *elif* in case there are more than two possible\n",
        "options. We can also use comparison operators in if/else statements."
      ]
    },
    {
      "cell_type": "code",
      "metadata": {
        "id": "RMELeWwRrLM4"
      },
      "source": [
        "my_num = 5\n",
        "\n",
        "if my_num < 0:\n",
        "    print('Negative')\n",
        "elif my_num < 10:\n",
        "    print('Less than 10')\n",
        "else:\n",
        "    print('Bigger than 10')"
      ],
      "execution_count": null,
      "outputs": []
    },
    {
      "cell_type": "markdown",
      "metadata": {
        "id": "Z0-4ShZQq-8-"
      },
      "source": [
        "### Exercise #4\n",
        "\n",
        "Write a program that would print out which quorum you belong to if you entered the age you'll be turning that year.\n",
        "\n",
        "* < 12: None\n",
        "* 12 - 13: Deacons\n",
        "* 14 - 15: Teachers\n",
        "* 16 - 17: Priests\n",
        "* 18+: Elders\n",
        "\n"
      ]
    },
    {
      "cell_type": "code",
      "metadata": {
        "id": "7Y1vuPSDqUkw"
      },
      "source": [
        "age = 12\n"
      ],
      "execution_count": null,
      "outputs": []
    },
    {
      "cell_type": "markdown",
      "metadata": {
        "id": "UG4Pm9s3j3Nn"
      },
      "source": [
        "## For Loops"
      ]
    },
    {
      "cell_type": "code",
      "metadata": {
        "colab": {
          "base_uri": "https://localhost:8080/"
        },
        "id": "gM61__aqj6In",
        "outputId": "50b2f42a-7312-4cc9-b0d3-7be0d0a2793d"
      },
      "source": [
        "quorum_members = ['Tucker', 'Collin', 'Hyrum', 'Alex', 'Bro. Wardell', 'Bro. Burdett']\n",
        "\n",
        "for member in quorum_members:\n",
        "    print(member)"
      ],
      "execution_count": null,
      "outputs": [
        {
          "output_type": "stream",
          "text": [
            "Tucker\n",
            "Collin\n",
            "Hyrum\n",
            "Alex\n",
            "Bro. Wardell\n",
            "Bro. Burdett\n"
          ],
          "name": "stdout"
        }
      ]
    },
    {
      "cell_type": "markdown",
      "metadata": {
        "id": "JzoopUX4kVKx"
      },
      "source": [
        "The *range* keyword will create a list between 0 and the number specified:"
      ]
    },
    {
      "cell_type": "code",
      "metadata": {
        "colab": {
          "base_uri": "https://localhost:8080/"
        },
        "id": "DtRc5qOZkQ1K",
        "outputId": "144fb578-6485-4119-ad65-4368885a8d79"
      },
      "source": [
        "r = range(10)\n",
        "\n",
        "print('Range:', list(r))"
      ],
      "execution_count": null,
      "outputs": [
        {
          "output_type": "stream",
          "text": [
            "Range: [0, 1, 2, 3, 4, 5, 6, 7, 8, 9]\n"
          ],
          "name": "stdout"
        }
      ]
    },
    {
      "cell_type": "code",
      "metadata": {
        "colab": {
          "base_uri": "https://localhost:8080/"
        },
        "id": "pqI4tH2WkrrU",
        "outputId": "65ff2fb2-f9dc-49a6-9f3d-42019f2c004e"
      },
      "source": [
        "for i in range(10):\n",
        "    print(i)"
      ],
      "execution_count": null,
      "outputs": [
        {
          "output_type": "stream",
          "text": [
            "0\n",
            "1\n",
            "2\n",
            "3\n",
            "4\n",
            "5\n",
            "6\n",
            "7\n",
            "8\n",
            "9\n"
          ],
          "name": "stdout"
        }
      ]
    },
    {
      "cell_type": "markdown",
      "metadata": {
        "id": "42z0wmWEk5tA"
      },
      "source": [
        "## While Loops"
      ]
    },
    {
      "cell_type": "code",
      "metadata": {
        "colab": {
          "base_uri": "https://localhost:8080/"
        },
        "id": "2W8133CFkz3a",
        "outputId": "07286d5c-8662-41f4-cbf0-1a439396dcbf"
      },
      "source": [
        "condition = True\n",
        "\n",
        "while condition:\n",
        "    inp = input('Should we loop again (y/n)?')\n",
        "    \n",
        "    if inp == 'y':\n",
        "        print('Yay, another round')\n",
        "        condition = True\n",
        "    elif inp == 'n':\n",
        "        condition = False\n",
        "    else:\n",
        "        print('You can only enter \\'y\\' or \\'n\\'!')\n",
        "\n",
        "\n",
        "print('\\nWe\\'re done here.')"
      ],
      "execution_count": null,
      "outputs": [
        {
          "output_type": "stream",
          "text": [
            "Should we loop again (y/n)?y\n",
            "Yay, another round\n",
            "Should we loop again (y/n)?y\n",
            "Yay, another round\n",
            "Should we loop again (y/n)?y\n",
            "Yay, another round\n",
            "Should we loop again (y/n)?y\n",
            "Yay, another round\n",
            "Should we loop again (y/n)?n\n",
            "\n",
            "We're done here.\n"
          ],
          "name": "stdout"
        }
      ]
    }
  ]
}