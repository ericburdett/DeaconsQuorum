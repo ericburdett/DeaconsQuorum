{
  "nbformat": 4,
  "nbformat_minor": 0,
  "metadata": {
    "colab": {
      "name": "FunctionsClasses.ipynb",
      "provenance": [],
      "authorship_tag": "ABX9TyOJAYR1fzNvoRSYB88mfbYP",
      "include_colab_link": true
    },
    "kernelspec": {
      "name": "python3",
      "display_name": "Python 3"
    },
    "language_info": {
      "name": "python"
    }
  },
  "cells": [
    {
      "cell_type": "markdown",
      "metadata": {
        "id": "view-in-github",
        "colab_type": "text"
      },
      "source": [
        "<a href=\"https://colab.research.google.com/github/ericburdett/DeaconsQuorum/blob/main/FunctionsClasses.ipynb\" target=\"_parent\"><img src=\"https://colab.research.google.com/assets/colab-badge.svg\" alt=\"Open In Colab\"/></a>"
      ]
    },
    {
      "cell_type": "markdown",
      "metadata": {
        "id": "HN9CF1l25wWZ"
      },
      "source": [
        "# Deacons Quorum - Python Programming Round 2\n",
        "\n",
        "This notebook contains Round 2 of an introduction to the basics of programming\n",
        "in the Python programming language.\n",
        "\n",
        "You can find Round 1 here:\n",
        "- [Intro to Python](https://colab.research.google.com/github/ericburdett/DeaconsQuorum/blob/main/IntroToPython.ipynb)\n",
        "\n",
        "Python is one of the simplest languages, so it's perfect for learning to\n",
        "program! When you program, you are basically just giving the computer a set of \n",
        "instructions that it will perform one right after another.\n",
        "\n",
        "Usually, you would write these instructions in a file that you would then tell\n",
        "the computer to execute. However, we're going to use a cool interface called\n",
        "jupyter that lets us run our code in *code blocks* which lets us see the results\n",
        "instantly. Once you've written your code, press the play button on the left\n",
        "side of the code block to run the code. The program output will appear directly\n",
        "below the code block.\n",
        "\n",
        "In each section, there are a series of examples with important programming\n",
        "concepts, followed by short exercises. These exercises will help you better\n",
        "learn the concept by asking you to solve a short problem. You can type your\n",
        "code directly into the provided code block and then run it to make sure it\n",
        "works!"
      ]
    },
    {
      "cell_type": "markdown",
      "metadata": {
        "id": "8cWLgBzd7LZJ"
      },
      "source": [
        "## Quick Review\n",
        "\n",
        "To make sure you're ready to move onto to new concepts in Python, please\n",
        "complete this programming challenge. If you're struggling to complete this\n",
        "challenge, review [Round 1](https://colab.research.google.com/github/ericburdett/DeaconsQuorum/blob/main/IntroToPython.ipynb) of this Intro to\n",
        "Python series, which should help you with this challenge.\n",
        "\n",
        "Using the provides `prophets` list below, print every third item in this list along with its list number.\n",
        "\n",
        "When finished, your program should output this:\n",
        "```\n",
        "0 : Joseph Smith\n",
        "3 : Wilford Woodruff\n",
        "6 : Heber J. Grant\n",
        "9 : Joseph Fielding Smith\n",
        "12 : Ezra Taft Benson\n",
        "15 : Thomas S. Monson\n",
        "```\n"
      ]
    },
    {
      "cell_type": "code",
      "metadata": {
        "id": "jR1_qPvl5o9r"
      },
      "source": [
        "prophets = [\n",
        "    'Joseph Smith',\n",
        "    'Brigham Young',\n",
        "    'John Taylor',\n",
        "    'Wilford Woodruff',\n",
        "    'Lorenzo Snow',\n",
        "    'Joseph F. Smith',\n",
        "    'Heber J. Grant',\n",
        "    'George Albert Smith',\n",
        "    'David O. McKay',\n",
        "    'Joseph Fielding Smith',\n",
        "    'Harold B. Lee',\n",
        "    'Spencer W. Kimball',\n",
        "    'Ezra Taft Benson',\n",
        "    'Howard W. Hunter',\n",
        "    'Gordon B. Hinckley',\n",
        "    'Thomas S. Monson',\n",
        "    'Russell M. Nelson'\n",
        "]"
      ],
      "execution_count": 2,
      "outputs": []
    },
    {
      "cell_type": "code",
      "metadata": {
        "id": "gG4LNR_NCFTK"
      },
      "source": [
        "## Write code here\n"
      ],
      "execution_count": null,
      "outputs": []
    },
    {
      "cell_type": "markdown",
      "metadata": {
        "id": "UjHMo9eLAl_R"
      },
      "source": [
        "## Functions\n",
        "\n",
        "Functions are an important part of programming. Essentially, a function is a\n",
        "block of code that only runs when it is called. You can also pass parameters\n",
        "(variables) into a function and can return data as a result.\n",
        "\n",
        "Functions allow us to **abstract** certain components of our code to make it easier to understand.\n",
        "\n",
        "Definition:\n",
        "\n",
        "* **Abstraction**: The process of hiding the details of something and only\n",
        "showing the necessary information."
      ]
    },
    {
      "cell_type": "markdown",
      "metadata": {
        "id": "Qs-PWtRXduMs"
      },
      "source": [
        "Let's work through an example.\n",
        "\n",
        "Let's write a function that tells someone \"Good Morning!\".\n",
        "\n",
        "Here's how it works. The `def` keyword means we are writing a function. The\n",
        "function's name is `say_good_morning`. Inside the function, we use our `print`\n",
        "function to write to the screen.\n"
      ]
    },
    {
      "cell_type": "code",
      "metadata": {
        "id": "E5gQ9IrTc5yx"
      },
      "source": [
        "def say_good_morning():\n",
        "    print('Good Morning!')"
      ],
      "execution_count": 22,
      "outputs": []
    },
    {
      "cell_type": "markdown",
      "metadata": {
        "id": "Sg6_ImprgORK"
      },
      "source": [
        "Did you see what happened when you ran the code block? Nothing!\n",
        "\n",
        "Functions only run when you call them. To call a function, you write the\n",
        "function's name followed by parentheses ( ).\n",
        "\n",
        "Try calling the function and see what happens."
      ]
    },
    {
      "cell_type": "code",
      "metadata": {
        "id": "Pqe9nxvPjR1B"
      },
      "source": [
        "say_good_morning()"
      ],
      "execution_count": null,
      "outputs": []
    },
    {
      "cell_type": "markdown",
      "metadata": {
        "id": "aJBt46u2jVch"
      },
      "source": [
        "Pretty cool, right?\n",
        "\n",
        "Another thing we can do is pass parameters (or variables) to our function to\n",
        "change what the function does.\n",
        "\n",
        "Inside the parentheses ( ), we can define our function parameters.\n",
        "\n",
        "Let's re-write our function to say good morning to a specific person."
      ]
    },
    {
      "cell_type": "code",
      "metadata": {
        "id": "zkSr2YHRj2pZ"
      },
      "source": [
        "def say_good_morning(name):  # define a function parameter called name\n",
        "    print('Good Morning, ', name, '!', sep='')  # using print allows us to print multiple things at the same time"
      ],
      "execution_count": 12,
      "outputs": []
    },
    {
      "cell_type": "markdown",
      "metadata": {
        "id": "FjKPlT9dkL5n"
      },
      "source": [
        "We defined a function parameter called `name` and used it in our function.\n",
        "\n",
        "Now, we can call our function again, but we can pass it the name parameter to\n",
        "say good morning to a specific person."
      ]
    },
    {
      "cell_type": "code",
      "metadata": {
        "colab": {
          "base_uri": "https://localhost:8080/"
        },
        "id": "C0aFS2MkkKlO",
        "outputId": "989b6dfd-9a76-45cb-af27-072fa0a41165"
      },
      "source": [
        "my_name = 'Darth Vader'\n",
        "\n",
        "say_good_morning(my_name)"
      ],
      "execution_count": 13,
      "outputs": [
        {
          "output_type": "stream",
          "name": "stdout",
          "text": [
            "Good Morning, Darth Vader!\n"
          ]
        }
      ]
    },
    {
      "cell_type": "markdown",
      "metadata": {
        "id": "kK1dNxz2lzeQ"
      },
      "source": [
        "Just remember that if you call a function that requires a parameter, but you\n",
        "didn't pass it into the function, you'll get an error.\n",
        "\n",
        "Run the codeblock below to see the error:"
      ]
    },
    {
      "cell_type": "code",
      "metadata": {
        "colab": {
          "base_uri": "https://localhost:8080/"
        },
        "id": "jsNk3pMAmGGw",
        "outputId": "dc5bdd96-715f-4118-b40b-e9df7ea947d3"
      },
      "source": [
        "say_good_morning()"
      ],
      "execution_count": 21,
      "outputs": [
        {
          "output_type": "stream",
          "name": "stdout",
          "text": [
            "Good Morning, Darth Vader!\n"
          ]
        }
      ]
    },
    {
      "cell_type": "markdown",
      "metadata": {
        "id": "W9dfFJw8k1Fd"
      },
      "source": [
        "We can also return variables from a function as well.\n",
        "\n",
        "Let's say we wanted to write a function that returned how many characters were \n",
        "in someone's name.\n",
        "\n",
        "We can do this by using the `return` keyword."
      ]
    },
    {
      "cell_type": "code",
      "metadata": {
        "id": "Wwak_1islNgv"
      },
      "source": [
        "def count_letters(word):\n",
        "    num_letters = len(word)\n",
        "\n",
        "    return num_letters"
      ],
      "execution_count": 25,
      "outputs": []
    },
    {
      "cell_type": "markdown",
      "metadata": {
        "id": "M9VL95r9lX5Z"
      },
      "source": [
        "Now that our function is written, we can call it and get a result.\n",
        "\n",
        "We can store the result in a new variable which we can use later."
      ]
    },
    {
      "cell_type": "code",
      "metadata": {
        "colab": {
          "base_uri": "https://localhost:8080/"
        },
        "id": "jFwD2fPYme6w",
        "outputId": "b4ae0b6b-92e9-4d8d-e87e-7c7a24fa9cb4"
      },
      "source": [
        "my_name = 'Darth Vader'\n",
        "\n",
        "num_letters = count_letters(my_name)\n",
        "\n",
        "print('Number of Letters:', num_letters)"
      ],
      "execution_count": 34,
      "outputs": [
        {
          "output_type": "stream",
          "name": "stdout",
          "text": [
            "Number of Letters: 11\n"
          ]
        }
      ]
    },
    {
      "cell_type": "markdown",
      "metadata": {
        "id": "rZd_ZMIZm8vG"
      },
      "source": [
        "Functions are really nice when we want to hide the details of some hard task\n",
        "that we don't want to worry about after we write it.\n",
        "\n",
        "The process of doing this is called **abstraction** and it makes programming\n",
        "a lot easier!\n",
        "\n",
        "Here's an example. Using the `prophets` list we used at the beginning, let's\n",
        "say we wanted to find all the prophets whose name started with `J`. Then we\n",
        "wanted to display all of those prophets on the screen along with how many\n",
        "letters are in their name.\n",
        "\n",
        "It would be nice if we could organize our code into these two steps:\n",
        "1. Find prophets that start with `J`.\n",
        "2. Print prophet and letter count to the screen."
      ]
    },
    {
      "cell_type": "markdown",
      "metadata": {
        "id": "-pOynaZyo1gC"
      },
      "source": [
        "First, let's write the `find_prophets_with_letter` function.\n",
        "\n",
        "In this function, we can pass 2 parameters instead of just 1."
      ]
    },
    {
      "cell_type": "code",
      "metadata": {
        "id": "JeYxqEcho0iD"
      },
      "source": [
        "def find_prophets_with_letter(prophets, letter):\n",
        "    letter_prophets = []\n",
        "\n",
        "    for prophet in prophets:\n",
        "        if prophet.startswith(letter):\n",
        "            letter_prophets.append(prophet)  # .append allows us to add to the \"letter_prophets\" list that we created above\n",
        "    \n",
        "    return letter_prophets"
      ],
      "execution_count": 35,
      "outputs": []
    },
    {
      "cell_type": "markdown",
      "metadata": {
        "id": "BAsH4LIpplez"
      },
      "source": [
        "We can now find prophets that start with any letter."
      ]
    },
    {
      "cell_type": "code",
      "metadata": {
        "colab": {
          "base_uri": "https://localhost:8080/"
        },
        "id": "7ZhUQ4ODpq63",
        "outputId": "0d045486-b83d-498b-d512-b106396a0817"
      },
      "source": [
        "letter = 'J'\n",
        "\n",
        "find_prophets_with_letter(prophets, letter)"
      ],
      "execution_count": 44,
      "outputs": [
        {
          "output_type": "execute_result",
          "data": {
            "text/plain": [
              "['Joseph Smith', 'John Taylor', 'Joseph F. Smith', 'Joseph Fielding Smith']"
            ]
          },
          "metadata": {},
          "execution_count": 44
        }
      ]
    },
    {
      "cell_type": "markdown",
      "metadata": {
        "id": "UvgUn-Jlp6N0"
      },
      "source": [
        "Now let's write the `print_list_with_letter_count` function."
      ]
    },
    {
      "cell_type": "code",
      "metadata": {
        "id": "oXa7KM_jqBZT"
      },
      "source": [
        "def print_list_with_letter_count(words):\n",
        "    for word in words:\n",
        "        letter_count = len(word)\n",
        "        print(word, ':', letter_count)"
      ],
      "execution_count": 48,
      "outputs": []
    },
    {
      "cell_type": "markdown",
      "metadata": {
        "id": "GoYthX-WumqF"
      },
      "source": [
        "As an example, we can print out the length of breakfast foods... Just for fun..."
      ]
    },
    {
      "cell_type": "code",
      "metadata": {
        "colab": {
          "base_uri": "https://localhost:8080/"
        },
        "id": "XSz5cAGpqTIA",
        "outputId": "6e48d53e-8340-4de4-c6c2-b0411d234b79"
      },
      "source": [
        "words = ['bacon', 'cheese', 'eggs', 'sausage']\n",
        "\n",
        "print_list_with_letter_count(words)"
      ],
      "execution_count": 50,
      "outputs": [
        {
          "output_type": "stream",
          "name": "stdout",
          "text": [
            "bacon : 5\n",
            "cheese : 6\n",
            "eggs : 4\n",
            "sausage : 7\n"
          ]
        }
      ]
    },
    {
      "cell_type": "markdown",
      "metadata": {
        "id": "RFIY7hy1uDxZ"
      },
      "source": [
        "Now if we wanted to find prophets that started with `J` and print the letter\n",
        "count, we could just call our two functions."
      ]
    },
    {
      "cell_type": "code",
      "metadata": {
        "colab": {
          "base_uri": "https://localhost:8080/"
        },
        "id": "-RGtJtlcuDMJ",
        "outputId": "658b29dc-d8c8-41d8-a29a-d9cf2be4da8a"
      },
      "source": [
        "letter_prophets = find_prophets_with_letter(prophets, letter)\n",
        "print_list_with_letter_count(letter_prophets)"
      ],
      "execution_count": 52,
      "outputs": [
        {
          "output_type": "stream",
          "name": "stdout",
          "text": [
            "Joseph Smith : 12\n",
            "John Taylor : 11\n",
            "Joseph F. Smith : 15\n",
            "Joseph Fielding Smith : 21\n"
          ]
        }
      ]
    },
    {
      "cell_type": "markdown",
      "metadata": {
        "id": "24iXZ8hFu09D"
      },
      "source": [
        "This is called abstraction, and it is one of the most important principles in\n",
        "programming. To build cool video games, there is lots and lots and lots of\n",
        "abstraction to be able to understand what's going on in the code."
      ]
    },
    {
      "cell_type": "markdown",
      "metadata": {
        "id": "5z0_UfDmuzni"
      },
      "source": [
        "Exercise #1:\n",
        "\n",
        "If given an age in years, write a program that outputs the number of\n",
        "days, hours, minutes, and seconds using functions.\n",
        "\n",
        "Your program should have five functions that return the number of months, days,\n",
        "hours, minutes, and seconds.\n",
        "\n",
        "```\n",
        "get_months\n",
        "get_days\n",
        "get_hours\n",
        "get_minutes\n",
        "get_seconds\n",
        "```\n",
        "\n",
        "It should also have a function that takes as a parameter **only the age in years* and prints all times to the screen. Call this function `display_time`.\n",
        "\n",
        "```\n",
        "display_time\n",
        "```\n",
        "\n",
        "If the input age was 26, the `display_time` function should print this:\n",
        "\n",
        "```\n",
        "years: 26\n",
        "months: 312\n",
        "hours: 227760\n",
        "minutes: 13665600\n",
        "seconds: 819936000\n",
        "```\n",
        "\n",
        "However! Your code should ONLY call one function, `display_time`.\n",
        "\n",
        "Hint: a function can call other functions."
      ]
    },
    {
      "cell_type": "code",
      "metadata": {
        "id": "UVRkIxOgy1kv"
      },
      "source": [
        "## Write code here\n"
      ],
      "execution_count": 56,
      "outputs": []
    },
    {
      "cell_type": "markdown",
      "metadata": {
        "id": "nA7ytcJv0zgB"
      },
      "source": [
        "Test to see if your code worked here:"
      ]
    },
    {
      "cell_type": "code",
      "metadata": {
        "id": "pCEyWAAzysRL"
      },
      "source": [
        "age = 26\n",
        "\n",
        "display_time(age)"
      ],
      "execution_count": null,
      "outputs": []
    },
    {
      "cell_type": "markdown",
      "metadata": {
        "id": "6soezXKh1RNZ"
      },
      "source": [
        "## Classes\n",
        "\n",
        "If you've made it this far, ask Brother Burdett to teach you about classes.\n",
        "\n",
        "Unfortunately, I didn't have enough time to write examples and exercises for this section."
      ]
    },
    {
      "cell_type": "code",
      "metadata": {
        "id": "wFAXh0xe1nJb"
      },
      "source": [
        "print('Classes coming soon!')"
      ],
      "execution_count": null,
      "outputs": []
    }
  ]
}