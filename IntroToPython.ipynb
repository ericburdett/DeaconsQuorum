{
  "nbformat": 4,
  "nbformat_minor": 0,
  "metadata": {
    "colab": {
      "name": "IntroToPython.ipynb",
      "provenance": [],
      "authorship_tag": "ABX9TyMmeZkX7sz+Dppz/HvXT+zv",
      "include_colab_link": true
    },
    "kernelspec": {
      "name": "python3",
      "display_name": "Python 3"
    },
    "language_info": {
      "name": "python"
    }
  },
  "cells": [
    {
      "cell_type": "markdown",
      "metadata": {
        "id": "view-in-github",
        "colab_type": "text"
      },
      "source": [
        "<a href=\"https://colab.research.google.com/github/ericburdett/DeaconsQuorum/blob/main/IntroToPython.ipynb\" target=\"_parent\"><img src=\"https://colab.research.google.com/assets/colab-badge.svg\" alt=\"Open In Colab\"/></a>"
      ]
    },
    {
      "cell_type": "markdown",
      "metadata": {
        "id": "y77Mg4dCXFpC"
      },
      "source": [
        "# Deacons Quorum - Intro to Programming with Python\n",
        "\n",
        "This notebook contains an introduction to the basics of programming in the\n",
        "Python programming language.\n",
        "\n",
        "Python is one of the simplest languages, so it's perfect for learning to\n",
        "program! When you program, you are basically just giving the computer a set of \n",
        "instructions that it will perform one right after another.\n",
        "\n",
        "Usually, you would write these instructions in a file that you would then tell\n",
        "the computer to execute. However, we're going to use a cool interface called\n",
        "jupyter that lets us run our code in *code blocks* which lets us see the results\n",
        "instantly. Once you've written your code, press the play button on the left\n",
        "side of the code block to run the code. The program output will appear directly\n",
        "below the code block.\n",
        "\n",
        "In each section, there are a series of examples with important programming\n",
        "concepts, followed by short exercises. These exercises will help you better\n",
        "learn the concept by asking you to solve a short problem. You can type your\n",
        "code directly into the provided code block and then run it to make sure it\n",
        "works!"
      ]
    },
    {
      "cell_type": "markdown",
      "metadata": {
        "id": "eazoBBZKdIcI"
      },
      "source": [
        "## Hello World\n",
        "\n",
        "The first program every programmer writes involves printing the phrase\n",
        "*Hello World* to the screen. In python, this is pretty easy. Just use\n",
        "the *print* function."
      ]
    },
    {
      "cell_type": "code",
      "metadata": {
        "id": "4iBtxaj6XFRx"
      },
      "source": [
        "print('Hello World!')"
      ],
      "execution_count": null,
      "outputs": []
    },
    {
      "cell_type": "markdown",
      "metadata": {
        "id": "5P7jaGdGg-BJ"
      },
      "source": [
        "### Exercise #1\n",
        "Print the phrase, *This is the way!* to the screen."
      ]
    },
    {
      "cell_type": "code",
      "metadata": {
        "id": "BcJ3JWGGhFOd"
      },
      "source": [
        "## Write code here\n"
      ],
      "execution_count": null,
      "outputs": []
    },
    {
      "cell_type": "markdown",
      "metadata": {
        "id": "zULy1JjqdNjz"
      },
      "source": [
        "## Variables & Data Types\n",
        "\n",
        "In programming, we need some sort of container to hold a piece of data\n",
        "that may or may not change over time. These simple containers are called\n",
        "*variables*.\n",
        "\n",
        "Variables can hold many different data types. Here's a list of a few of them:\n",
        "* Integers: Whole Numbers - Example: 10\n",
        "* Floats: Decimal Numbers - Example: 3.1415926\n",
        "* Strings: Text Characters/Letters or Numbers - Example: Star Wars IV: A New Hope\n",
        "* Booleans: True/False - Example: True\n",
        "* Lists: A list of any of the above data types - Example: [1, 2, 3, 5, 8, 13, 21]\n",
        "\n",
        "To create a variable in python, we can just type the name of the variable and \n",
        "assign it a value with the *=* sign. We can also print out variables with the\n",
        "*print* function."
      ]
    },
    {
      "cell_type": "code",
      "metadata": {
        "id": "X3cSbk2LkVYl"
      },
      "source": [
        "my_variable = 'Programming is cool!'\n",
        "print(my_variable)"
      ],
      "execution_count": null,
      "outputs": []
    },
    {
      "cell_type": "markdown",
      "metadata": {
        "id": "_xiPteO9klvP"
      },
      "source": [
        "We can create variables with all of the data types we mentioned earlier"
      ]
    },
    {
      "cell_type": "code",
      "metadata": {
        "id": "65-7vNNjdUEU"
      },
      "source": [
        "# Integer - We can create an integer just be typing the number\n",
        "var1 = 10 \n",
        "\n",
        "# Float - We can create a float just by typing the number with a decimal\n",
        "var2 = 10.5 \n",
        "\n",
        "# String - We can create a string by surrounding the text with quote marks\n",
        "var3 = 'Hello World!' \n",
        "\n",
        "# List - We can create a list by surrounding comma separated values with square brackets [].\n",
        "var4 = ['Spiritual', 'Social', 'Intellectual', 'Physical'] \n",
        "\n",
        "# Boolean - We can create a boolean by simply using the keywords True or False\n",
        "var5 = True # Boolean\n",
        "\n",
        "print('This is variable 1:', var1)\n",
        "print('This is variable 2:', var2)\n",
        "print('This is variable 3:', var3)\n",
        "print('This is variable 4:', var4)\n",
        "print('This is variable 5:', var5)"
      ],
      "execution_count": null,
      "outputs": []
    },
    {
      "cell_type": "markdown",
      "metadata": {
        "id": "ZbUHc97Al4VJ"
      },
      "source": [
        "### Exercise #2\n",
        "\n",
        "Create a list that contains the following items:\n",
        "* Your Name (String)\n",
        "* Your Age (Integer)\n",
        "* Your Favorite Movie/TV-Show (String)\n",
        "* Whether or not you like SPAM (Boolean)\n",
        "\n",
        "Then print the list to the screen."
      ]
    },
    {
      "cell_type": "code",
      "metadata": {
        "id": "8mW1jqdql374"
      },
      "source": [
        "# Write code here\n"
      ],
      "execution_count": null,
      "outputs": []
    },
    {
      "cell_type": "markdown",
      "metadata": {
        "id": "I4wIdcO1eHC_"
      },
      "source": [
        "## Math Operations\n",
        "\n",
        "In programming, we usually need to use math operations. We can add, subtract,\n",
        "multiply, and divide any number by using the *+, -, /, ** operators. "
      ]
    },
    {
      "cell_type": "code",
      "metadata": {
        "id": "kenTsVchn7WX"
      },
      "source": [
        "result = 5 + 2\n",
        "print(result)"
      ],
      "execution_count": null,
      "outputs": []
    },
    {
      "cell_type": "markdown",
      "metadata": {
        "id": "4Lg5j7ycoCAO"
      },
      "source": [
        "Here's an example with all of the operators.\n",
        "\n",
        "We'll create two variables called *num1* and *num2* to help us do the \n",
        "operations."
      ]
    },
    {
      "cell_type": "code",
      "metadata": {
        "id": "6yknsPBMeGa9"
      },
      "source": [
        "num1 = 150\n",
        "num2 = 25\n",
        "\n",
        "sum = num1 + num2 # Addition\n",
        "difference = num1 - num2 # Subtraction\n",
        "quotient = num1 / num2 # Division\n",
        "product = num1 * num2 # Multiplication\n",
        "\n",
        "print('num1 + num2 =', sum)\n",
        "print('num1 - num2 =', difference)\n",
        "print('num1 / num2 =', quotient)\n",
        "print('num1 * num2 =', product)"
      ],
      "execution_count": null,
      "outputs": []
    },
    {
      "cell_type": "markdown",
      "metadata": {
        "id": "TAh6BJeRmZaM"
      },
      "source": [
        "### Exercise #3\n",
        "\n",
        "Calculate how many seconds there are in a day and print the result to the\n",
        "screen."
      ]
    },
    {
      "cell_type": "code",
      "metadata": {
        "id": "FN6jP3mHmYvB"
      },
      "source": [
        "# Write code here\n"
      ],
      "execution_count": null,
      "outputs": []
    },
    {
      "cell_type": "markdown",
      "metadata": {
        "id": "j4ytlGA0ojwS"
      },
      "source": [
        "## Comparing Data Types\n",
        "\n",
        "Sometimes it's helpful to compare variables. Here's some of the comparison operators we can use:\n",
        "* a == b : Is a **equal** to b?\n",
        "* a != b : Is a **not equal** to b?\n",
        "* a < b : Is a **less than** b?\n",
        "* a > b : Is a **greater than** b?\n",
        "* a <= b : Is a **less than or equal to** b?\n",
        "\n",
        "The result of a comparison operator is a boolean!"
      ]
    },
    {
      "cell_type": "code",
      "metadata": {
        "id": "hwPO-BeStLiA"
      },
      "source": [
        "num1 = 10\n",
        "num2 = 20\n",
        "\n",
        "print('Is Num1 equal to Num2:', num1 == num2)\n",
        "print('Is Num1 not equal to Num2:', num1 != num2)\n",
        "print('Is Num1 greater than Num2:', num1 > num2)\n",
        "print('Is Num1 less than Num2:', num1 < num2)"
      ],
      "execution_count": null,
      "outputs": []
    },
    {
      "cell_type": "markdown",
      "metadata": {
        "id": "uwHzrdsNfVTT"
      },
      "source": [
        "## If/Else Statements\n",
        "\n",
        "Sometimes we want to tell the computer to do something *ONLY IF* a certain\n",
        "condition occurs. We can do this with the *if* keyword followed by a boolean\n",
        "value (True/False). If the boolean value is *True*, the code is run. If the\n",
        "boolean is *False*, the code doesn't run."
      ]
    },
    {
      "cell_type": "code",
      "metadata": {
        "id": "Y55IUyEzfUeo"
      },
      "source": [
        "# Shows I think are cool.\n",
        "# Change the True/False values on the variables and run the codeblock again to see the behavior.\n",
        "the_mandalorian_is_cool = False\n",
        "iron_man_is_cool = True\n",
        "lion_king_is_cool = False\n",
        "toy_story_is_cool = True\n",
        "\n",
        "if the_mandalorian_is_cool:\n",
        "    print('This is the way!')\n",
        "if iron_man_is_cool:\n",
        "    print('I am Iron Man.')\n",
        "if lion_king_is_cool:\n",
        "    print('Hakuna Matata. What a wonderful phrase!')\n",
        "if toy_story_is_cool:\n",
        "    print('You got a friend in me.')"
      ],
      "execution_count": null,
      "outputs": []
    },
    {
      "cell_type": "markdown",
      "metadata": {
        "id": "nbn87PpuiHpd"
      },
      "source": [
        "You can use the *not* keyword to *Negate* booleans."
      ]
    },
    {
      "cell_type": "code",
      "metadata": {
        "id": "yTCyNKSmiF_D"
      },
      "source": [
        "# Change this value and run the code block to see what happens\n",
        "my_boolean = True\n",
        "\n",
        "opposite_boolean = not my_boolean\n",
        "\n",
        "print('Opposite of what you entered:', opposite_boolean)"
      ],
      "execution_count": null,
      "outputs": []
    },
    {
      "cell_type": "markdown",
      "metadata": {
        "id": "RsNfiY8IqZD4"
      },
      "source": [
        "When using the *else* keyword, you can provide other code that should run if the boolean value isn't true."
      ]
    },
    {
      "cell_type": "code",
      "metadata": {
        "id": "brWVlmzYjaAX"
      },
      "source": [
        "# Change this value and run the code block to see what happens\n",
        "the_mandalorian_is_dumb = True\n",
        "\n",
        "if not the_mandalorian_is_dumb:\n",
        "    print('Correct!')\n",
        "else:\n",
        "    print('Wrong! I don\\'t think you\\'ve actually watched it.')"
      ],
      "execution_count": null,
      "outputs": []
    },
    {
      "cell_type": "markdown",
      "metadata": {
        "id": "KsZO5N0wrL8T"
      },
      "source": [
        "You can also use the keyword *elif* in case there are more than two possible\n",
        "options. We can also use comparison operators in if/else statements."
      ]
    },
    {
      "cell_type": "code",
      "metadata": {
        "id": "RMELeWwRrLM4"
      },
      "source": [
        "# Change this value and run the code block to see what happens\n",
        "my_num = 5\n",
        "\n",
        "if my_num < 0:\n",
        "    print('Negative')\n",
        "elif my_num < 10:\n",
        "    print('Less than 10')\n",
        "else:\n",
        "    print('Bigger than 10')"
      ],
      "execution_count": null,
      "outputs": []
    },
    {
      "cell_type": "markdown",
      "metadata": {
        "id": "Z0-4ShZQq-8-"
      },
      "source": [
        "### Exercise #4\n",
        "\n",
        "Write a program that would print out which quorum you belong to if you entered the age you'll be turning that year.\n",
        "\n",
        "* < 12: None\n",
        "* 12 - 13: Deacons\n",
        "* 14 - 15: Teachers\n",
        "* 16 - 17: Priests\n",
        "* 18+: Elders\n",
        "\n"
      ]
    },
    {
      "cell_type": "code",
      "metadata": {
        "id": "7Y1vuPSDqUkw"
      },
      "source": [
        "# Use this variable for age in your program.\n",
        "# Change this value and run the code block to see what happens\n",
        "age = 12\n",
        "\n",
        "## Write code here"
      ],
      "execution_count": null,
      "outputs": []
    },
    {
      "cell_type": "markdown",
      "metadata": {
        "id": "UG4Pm9s3j3Nn"
      },
      "source": [
        "## For Loops\n",
        "\n",
        "Loops are used to run intructions multiple times. A common type of loop is\n",
        "called a *for* loop. With this loop, we run the provided code as many times as\n",
        "there are elements in the list. For example, a loop would run a piece of code\n",
        "5 times if there were 5 elements in the list. This loop is useful if we want\n",
        "the computer to do something for each element in a list."
      ]
    },
    {
      "cell_type": "code",
      "metadata": {
        "id": "gM61__aqj6In"
      },
      "source": [
        "# A list that we want to iterate over\n",
        "quorum_members = ['Tucker', 'Collin', 'Hyrum', 'Alex', 'Bro. Wardell', 'Bro. Burdett']\n",
        "\n",
        "for member in quorum_members:\n",
        "    print('Quorum Member:', member)"
      ],
      "execution_count": null,
      "outputs": []
    },
    {
      "cell_type": "markdown",
      "metadata": {
        "id": "JzoopUX4kVKx"
      },
      "source": [
        "The *range* keyword will create a list between 0 and the number specified:"
      ]
    },
    {
      "cell_type": "code",
      "metadata": {
        "id": "DtRc5qOZkQ1K"
      },
      "source": [
        "# Change the number given to the range function to see what happens\n",
        "r = range(10)\n",
        "\n",
        "print('Range:', list(r))"
      ],
      "execution_count": null,
      "outputs": []
    },
    {
      "cell_type": "markdown",
      "metadata": {
        "id": "0b8uHIyGFbEQ"
      },
      "source": [
        "We can use the range function directly in a for loop."
      ]
    },
    {
      "cell_type": "code",
      "metadata": {
        "id": "pqI4tH2WkrrU"
      },
      "source": [
        "for i in range(10):\n",
        "    print(i)"
      ],
      "execution_count": null,
      "outputs": []
    },
    {
      "cell_type": "markdown",
      "metadata": {
        "id": "0pAhUof7RuAK"
      },
      "source": [
        "### Exercise #5\n",
        "\n",
        "Create a list that contains the name for every person in your family. Then use\n",
        "a *for* loop to display each person's name and also give the number of letters in each person's name.\n",
        "\n",
        "You can use the function *len* that returns the length of a string.\n",
        "\n",
        "Your program output should look something like this:\n",
        "\n",
        "Eric - 4\n",
        "\n",
        "Erika - 5\n",
        "\n",
        "Jordan - 6\n",
        "\n",
        "Tyler - 5"
      ]
    },
    {
      "cell_type": "markdown",
      "metadata": {
        "id": "MkFPgy6XSxce"
      },
      "source": [
        "*len* example:"
      ]
    },
    {
      "cell_type": "code",
      "metadata": {
        "id": "qPvvi0CkSz3C"
      },
      "source": [
        "my_string = 'StarWars'\n",
        "length = len(my_string)\n",
        "\n",
        "print('Letters in the string:', length)"
      ],
      "execution_count": null,
      "outputs": []
    },
    {
      "cell_type": "code",
      "metadata": {
        "id": "YDmPfUhDSl7E"
      },
      "source": [
        "# Write your code here\n"
      ],
      "execution_count": null,
      "outputs": []
    },
    {
      "cell_type": "markdown",
      "metadata": {
        "id": "42z0wmWEk5tA"
      },
      "source": [
        "## While Loops\n",
        "\n",
        "While loops are helpful when we want to keep running a section of code until\n",
        "a certain condition is met.\n",
        "\n",
        "Also notice that in the string objects below, we occasionally want to include\n",
        "characters like quote marks ( *'* ). Since quote marks are used to designate\n",
        "the beginning and ending of a string, we need to *escape* these characters to\n",
        "tell python that the string hasn't ended yet, but that we want to include the\n",
        "character in the string. We *escape* characters by placing a backslash ( *\\* )\n",
        "before the character.\n",
        "\n",
        "A backslash n ( *\\n* ) can also be used to perform *newlines* or *enters*."
      ]
    },
    {
      "cell_type": "code",
      "metadata": {
        "id": "2W8133CFkz3a"
      },
      "source": [
        "should_run_loop = 'y'\n",
        "\n",
        "while should_run_loop == 'y':\n",
        "     should_run_loop = input('Should we loop again (y/n)? ')\n",
        "    \n",
        "    if should_run_loop == 'y':\n",
        "        print('Yay, another round')\n",
        "    elif should_run_loop != 'n':\n",
        "        print('You can only enter \\'y\\' or \\'n\\'!')\n",
        "        should_run_loop = 'y'\n",
        "\n",
        "print('\\nWe\\'re done here.')"
      ],
      "execution_count": null,
      "outputs": []
    },
    {
      "cell_type": "markdown",
      "metadata": {
        "id": "lnEWV5bxG1fe"
      },
      "source": [
        "## Other Useful Keywords/Concepts\n",
        "\n",
        "Here is a list of other useful keywords that may be helpful in programming in python."
      ]
    },
    {
      "cell_type": "markdown",
      "metadata": {
        "id": "uOHAcyPmHrhO"
      },
      "source": [
        "### And/Or\n",
        "\n",
        "*And* and *Or* operators are helpful in *if* statements to see if one or more \n",
        "conditions are met. Here's an example.\n",
        "\n",
        "To get the covid vaccine in Utah, you must be a utah resident and older than 16.\n",
        "To see if someone meets both of those conditions, we can use the *and* keyword."
      ]
    },
    {
      "cell_type": "code",
      "metadata": {
        "id": "HIpaBqcqHgIq"
      },
      "source": [
        "age = 15\n",
        "utah_resident = True\n",
        "\n",
        "if age >= 16 and utah_resident:\n",
        "    print('You are eligible to get the Covid Vaccine in Utah!')\n",
        "else:\n",
        "    print('You are NOT eligible to get the Covid Vaccine in Utah!')"
      ],
      "execution_count": null,
      "outputs": []
    },
    {
      "cell_type": "markdown",
      "metadata": {
        "id": "dQAW5ivdI5HW"
      },
      "source": [
        "*And* and *Or* operators just compare boolean values and then return new boolean\n",
        "values. Let's see this work."
      ]
    },
    {
      "cell_type": "code",
      "metadata": {
        "id": "GdJSxpkoJD3y"
      },
      "source": [
        "print('And Operations:\\n')\n",
        "print('True and True:', True and True)\n",
        "print('True and False:', True and False)\n",
        "print('False and True:', False and True)\n",
        "print('False and False:', False and False)\n",
        "\n",
        "print('\\nOr Operations:\\n')\n",
        "print('True or True:', True or True)\n",
        "print('True or False:', True or False)\n",
        "print('False or True:', False or True)\n",
        "print('False or False:', False or False)"
      ],
      "execution_count": null,
      "outputs": []
    },
    {
      "cell_type": "markdown",
      "metadata": {
        "id": "zCJO-17oJu94"
      },
      "source": [
        "### Continue/Break for Loops\n",
        "\n",
        "Continue and Break are useful keywords when trying to stop a loop from looping\n",
        "or to continue looping, but without running the rest of the code in the current\n",
        "loop."
      ]
    },
    {
      "cell_type": "markdown",
      "metadata": {
        "id": "IuuA1Q0FLi3-"
      },
      "source": [
        "Here's an example of using *break*."
      ]
    },
    {
      "cell_type": "code",
      "metadata": {
        "id": "0nQFYPvaJ1gE"
      },
      "source": [
        "cool_people = ['Baby Yoda', 'Mando', 'Luke Skywalker']\n",
        "\n",
        "for person in cool_people:\n",
        "    if person == 'Mando':\n",
        "        break\n",
        "    print('Cool Person:', person)\n",
        "\n",
        "print('\\nDone Looping.')"
      ],
      "execution_count": null,
      "outputs": []
    },
    {
      "cell_type": "markdown",
      "metadata": {
        "id": "KM6KCGDFLl7G"
      },
      "source": [
        "Here's an example of using continue.\n",
        "\n",
        "Notice how we continue looping after the keyword *continue*, but we don't\n",
        "execute the rest of the code which prints out Jedi Knight."
      ]
    },
    {
      "cell_type": "code",
      "metadata": {
        "id": "xr_02FcOLpI7"
      },
      "source": [
        "cool_people = ['Baby Yoda', 'Mando', 'Luke Skywalker']\n",
        "\n",
        "for person in cool_people:\n",
        "    print('\\nCool Person: ', person, end='')\n",
        "    if person != 'Luke Skywalker':\n",
        "        continue  # See how we continue looping \n",
        "    print('(Jedi Knight)', end='')  "
      ],
      "execution_count": null,
      "outputs": []
    },
    {
      "cell_type": "markdown",
      "metadata": {
        "id": "rDC6Rw3-K0j0"
      },
      "source": [
        "### Enumerate\n",
        "\n",
        "The enumerate keyword is really nice if we want to know the position of an item\n",
        "in the list while we are looping. *enumerate* is a function that we can pass\n",
        "a list to which returns the position in the list and the item.\n",
        "\n",
        "Here's an example."
      ]
    },
    {
      "cell_type": "code",
      "metadata": {
        "id": "GjjlItBmK-1p"
      },
      "source": [
        "cool_people = ['Baby Yoda', 'Mando', 'Luke Skywalker']\n",
        "\n",
        "for position, person in enumerate(cool_people):\n",
        "    print('Cool Person:', person, '- Position:', position)"
      ],
      "execution_count": null,
      "outputs": []
    },
    {
      "cell_type": "markdown",
      "metadata": {
        "id": "SnmKIa3FOSxp"
      },
      "source": [
        "### Modulus and Integer Division\n",
        "\n",
        "The modulus operator ( *%* ) is used to find the *remainder* when performing\n",
        "division, which is often very helpful when programming.\n",
        "\n",
        "Sometimes we also want to know the result of an operation called *integer\n",
        "division*. This type of division returns how many **whole** times a number\n",
        "can be divided. This means the result will always be a **whole** number without\n",
        "decimals. We can perform *integer division* by using 2 forward slashes ( *//* )."
      ]
    },
    {
      "cell_type": "markdown",
      "metadata": {
        "id": "VVhPgY3tP7Ax"
      },
      "source": [
        "Here's an example of modulus (or the remainder) operation."
      ]
    },
    {
      "cell_type": "code",
      "metadata": {
        "id": "tllFTM4wOqrA"
      },
      "source": [
        "dividend = 10\n",
        "divisor = 3\n",
        "\n",
        "remainder = dividend % divisor\n",
        "\n",
        "print('The remainder of', dividend, '/', divisor, 'is', remainder)"
      ],
      "execution_count": null,
      "outputs": []
    },
    {
      "cell_type": "markdown",
      "metadata": {
        "id": "GA0Cn9tvP_Fz"
      },
      "source": [
        "Here's an example of integer division and modulus"
      ]
    },
    {
      "cell_type": "code",
      "metadata": {
        "id": "Nt9DGa3APO3j"
      },
      "source": [
        "dividend = 10\n",
        "divisor = 3\n",
        "\n",
        "quotient = dividend // divisor\n",
        "remainder = dividend % divisor\n",
        "\n",
        "print('With Remainder:', dividend, '/', divisor, '=', quotient, 'remainder', remainder)"
      ],
      "execution_count": null,
      "outputs": []
    },
    {
      "cell_type": "markdown",
      "metadata": {
        "id": "ituFdKUKQyMk"
      },
      "source": [
        "If we use a single forward slash ( */* ) for division, python will return the\n",
        "result is decimal form."
      ]
    },
    {
      "cell_type": "code",
      "metadata": {
        "id": "UOodsPJRQxaY"
      },
      "source": [
        "print('With Decimal:', dividend, '/', divisor, '=', dividend / divisor)"
      ],
      "execution_count": null,
      "outputs": []
    },
    {
      "cell_type": "markdown",
      "metadata": {
        "id": "2MpC-C1gVbjA"
      },
      "source": [
        "### Input Function\n",
        "\n",
        "The input function allows you to accept input from the user.\n",
        "\n",
        "The input function will return the value that the user entered\n",
        "which you will then be able to store in a variable. You can also\n",
        "provide a prompt that will be printed to the screen that will\n",
        "tell the user what to type."
      ]
    },
    {
      "cell_type": "code",
      "metadata": {
        "id": "ZtCv7wlFVxHc"
      },
      "source": [
        "name = input('Enter your name: ')\n",
        "\n",
        "print('\\nYou entered:', name)"
      ],
      "execution_count": null,
      "outputs": []
    }
  ]
}