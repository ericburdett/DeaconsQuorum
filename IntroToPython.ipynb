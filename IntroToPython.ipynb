{
  "nbformat": 4,
  "nbformat_minor": 0,
  "metadata": {
    "colab": {
      "name": "IntroToPython.ipynb",
      "provenance": [],
      "authorship_tag": "ABX9TyOIOQLpjpmvtyi2XcU5ql6Q",
      "include_colab_link": true
    },
    "kernelspec": {
      "name": "python3",
      "display_name": "Python 3"
    },
    "language_info": {
      "name": "python"
    }
  },
  "cells": [
    {
      "cell_type": "markdown",
      "metadata": {
        "id": "view-in-github",
        "colab_type": "text"
      },
      "source": [
        "<a href=\"https://colab.research.google.com/github/ericburdett/DeaconsQuorum/blob/main/IntroToPython.ipynb\" target=\"_parent\"><img src=\"https://colab.research.google.com/assets/colab-badge.svg\" alt=\"Open In Colab\"/></a>"
      ]
    },
    {
      "cell_type": "markdown",
      "metadata": {
        "id": "y77Mg4dCXFpC"
      },
      "source": [
        "# Deacons Quorum - Intro to Python\n"
      ]
    },
    {
      "cell_type": "markdown",
      "metadata": {
        "id": "eazoBBZKdIcI"
      },
      "source": [
        "### Hello World"
      ]
    },
    {
      "cell_type": "code",
      "metadata": {
        "id": "4iBtxaj6XFRx"
      },
      "source": [
        "print('Hello World!')"
      ],
      "execution_count": null,
      "outputs": []
    },
    {
      "cell_type": "markdown",
      "metadata": {
        "id": "zULy1JjqdNjz"
      },
      "source": [
        "### Variables"
      ]
    },
    {
      "cell_type": "code",
      "metadata": {
        "colab": {
          "base_uri": "https://localhost:8080/"
        },
        "id": "65-7vNNjdUEU",
        "outputId": "0e926e0e-371f-421e-9863-16a6b59c3935"
      },
      "source": [
        "# We can assign values to variables with the '=' sign\n",
        "\n",
        "var1 = 10 # Integer \n",
        "var2 = 10.5 # Float\n",
        "var3 = 'Hello World!' # String\n",
        "var4 = ['Spiritual', 'Social', 'Intellectual', 'Physical'] # List\n",
        "var5 = True # Boolean\n",
        "\n",
        "print('This is variable 1:', var1)\n",
        "print('This is variable 2:', var2)\n",
        "print('This is variable 3:', var3)\n",
        "print('This is variable 4:', var4)"
      ],
      "execution_count": 5,
      "outputs": [
        {
          "output_type": "stream",
          "text": [
            "This is variable 1: 10\n",
            "This is variable 2: 10.5\n",
            "This is variable 3: Hello World!\n",
            "This is variable 4: ['Spiritual', 'Social', 'Intellectual', 'Physical']\n"
          ],
          "name": "stdout"
        }
      ]
    },
    {
      "cell_type": "markdown",
      "metadata": {
        "id": "I4wIdcO1eHC_"
      },
      "source": [
        "### Math Operations"
      ]
    },
    {
      "cell_type": "code",
      "metadata": {
        "colab": {
          "base_uri": "https://localhost:8080/"
        },
        "id": "6yknsPBMeGa9",
        "outputId": "8f375a3f-647b-4fb3-fe83-08c3ab41bf4e"
      },
      "source": [
        "num1 = 150\n",
        "num2 = 25\n",
        "\n",
        "sum = num1 + num2 # Addition\n",
        "difference = num1 - num2 # Subtraction\n",
        "quotient = num1 / num2 # Division\n",
        "product = num1 * num2 # Multiplication\n",
        "\n",
        "print('num1 + num2 =', sum)\n",
        "print('num1 - num2 =', difference)\n",
        "print('num1 / num2 =', quotient)\n",
        "print('num1 * num2 =', product)"
      ],
      "execution_count": 12,
      "outputs": [
        {
          "output_type": "stream",
          "text": [
            "num1 + num2 = 175\n",
            "num1 - num2 = 125\n",
            "num1 / num2 = 6.0\n",
            "num1 * num2 = 3750\n"
          ],
          "name": "stdout"
        }
      ]
    },
    {
      "cell_type": "markdown",
      "metadata": {
        "id": "uwHzrdsNfVTT"
      },
      "source": [
        "### If/Else Statements"
      ]
    },
    {
      "cell_type": "code",
      "metadata": {
        "colab": {
          "base_uri": "https://localhost:8080/"
        },
        "id": "Y55IUyEzfUeo",
        "outputId": "03d67daa-7e0e-48aa-d6e3-f66007f97b85"
      },
      "source": [
        "# Shows I think are cool.\n",
        "\n",
        "the_mandalorian_is_cool = False\n",
        "iron_man_is_cool = True\n",
        "lion_king_is_cool = False\n",
        "toy_story_is_cool = True\n",
        "\n",
        "if the_mandalorian_is_cool:\n",
        "    print('This is the way!')\n",
        "if iron_man_is_cool:\n",
        "    print('I am Iron Man.')\n",
        "if lion_king_is_cool:\n",
        "    print('Hakuna Matata. What a wonderful phrase!')\n",
        "if toy_story_is_cool:\n",
        "    print('You got a friend in me.')"
      ],
      "execution_count": 23,
      "outputs": [
        {
          "output_type": "stream",
          "text": [
            "I am Iron Man.\n",
            "You got a friend in me.\n"
          ],
          "name": "stdout"
        }
      ]
    },
    {
      "cell_type": "markdown",
      "metadata": {
        "id": "nbn87PpuiHpd"
      },
      "source": [
        "You can use the *not* keyword to *Negate* booleans."
      ]
    },
    {
      "cell_type": "code",
      "metadata": {
        "colab": {
          "base_uri": "https://localhost:8080/"
        },
        "id": "yTCyNKSmiF_D",
        "outputId": "dbb7e83d-cf99-432a-bf96-f5d4f98bec83"
      },
      "source": [
        "bool1 = True\n",
        "bool2 = not boolean1\n",
        "\n",
        "print('Opposite of what you entered:', bool2)"
      ],
      "execution_count": 27,
      "outputs": [
        {
          "output_type": "stream",
          "text": [
            "Opposite of what you entered: False\n"
          ],
          "name": "stdout"
        }
      ]
    },
    {
      "cell_type": "code",
      "metadata": {
        "colab": {
          "base_uri": "https://localhost:8080/"
        },
        "id": "brWVlmzYjaAX",
        "outputId": "1a4a072d-7d68-4ee5-bdfb-6d33776106e1"
      },
      "source": [
        "the_mandalorian_is_dumb = True\n",
        "\n",
        "if not the_mandalorian_is_dumb:\n",
        "    print('Correct!')\n",
        "else:\n",
        "    print('Wrong! I don\\'t think you\\'ve actually watched it.')"
      ],
      "execution_count": 32,
      "outputs": [
        {
          "output_type": "stream",
          "text": [
            "Wrong! I don't think you've actually watched it.\n"
          ],
          "name": "stdout"
        }
      ]
    },
    {
      "cell_type": "markdown",
      "metadata": {
        "id": "UG4Pm9s3j3Nn"
      },
      "source": [
        "### For Loops"
      ]
    },
    {
      "cell_type": "code",
      "metadata": {
        "colab": {
          "base_uri": "https://localhost:8080/"
        },
        "id": "gM61__aqj6In",
        "outputId": "50b2f42a-7312-4cc9-b0d3-7be0d0a2793d"
      },
      "source": [
        "quorum_members = ['Tucker', 'Collin', 'Hyrum', 'Alex', 'Bro. Wardell', 'Bro. Burdett']\n",
        "\n",
        "for member in quorum_members:\n",
        "    print(member)"
      ],
      "execution_count": 33,
      "outputs": [
        {
          "output_type": "stream",
          "text": [
            "Tucker\n",
            "Collin\n",
            "Hyrum\n",
            "Alex\n",
            "Bro. Wardell\n",
            "Bro. Burdett\n"
          ],
          "name": "stdout"
        }
      ]
    },
    {
      "cell_type": "markdown",
      "metadata": {
        "id": "JzoopUX4kVKx"
      },
      "source": [
        "The *range* keyword will create a list between 0 and the number specified:"
      ]
    },
    {
      "cell_type": "code",
      "metadata": {
        "colab": {
          "base_uri": "https://localhost:8080/"
        },
        "id": "DtRc5qOZkQ1K",
        "outputId": "144fb578-6485-4119-ad65-4368885a8d79"
      },
      "source": [
        "r = range(10)\n",
        "\n",
        "print('Range:', list(r))"
      ],
      "execution_count": 35,
      "outputs": [
        {
          "output_type": "stream",
          "text": [
            "Range: [0, 1, 2, 3, 4, 5, 6, 7, 8, 9]\n"
          ],
          "name": "stdout"
        }
      ]
    },
    {
      "cell_type": "code",
      "metadata": {
        "colab": {
          "base_uri": "https://localhost:8080/"
        },
        "id": "pqI4tH2WkrrU",
        "outputId": "65ff2fb2-f9dc-49a6-9f3d-42019f2c004e"
      },
      "source": [
        "for i in range(10):\n",
        "    print(i)"
      ],
      "execution_count": 39,
      "outputs": [
        {
          "output_type": "stream",
          "text": [
            "0\n",
            "1\n",
            "2\n",
            "3\n",
            "4\n",
            "5\n",
            "6\n",
            "7\n",
            "8\n",
            "9\n"
          ],
          "name": "stdout"
        }
      ]
    },
    {
      "cell_type": "markdown",
      "metadata": {
        "id": "42z0wmWEk5tA"
      },
      "source": [
        "### While Loops"
      ]
    },
    {
      "cell_type": "code",
      "metadata": {
        "colab": {
          "base_uri": "https://localhost:8080/"
        },
        "id": "2W8133CFkz3a",
        "outputId": "07286d5c-8662-41f4-cbf0-1a439396dcbf"
      },
      "source": [
        "condition = True\n",
        "\n",
        "while condition:\n",
        "    inp = input('Should we loop again (y/n)?')\n",
        "    \n",
        "    if inp == 'y':\n",
        "        print('Yay, another round')\n",
        "        condition = True\n",
        "    elif inp == 'n':\n",
        "        condition = False\n",
        "    else:\n",
        "        print('You can only enter \\'y\\' or \\'n\\'!')\n",
        "\n",
        "\n",
        "print('\\nWe\\'re done here.')"
      ],
      "execution_count": 45,
      "outputs": [
        {
          "output_type": "stream",
          "text": [
            "Should we loop again (y/n)?y\n",
            "Yay, another round\n",
            "Should we loop again (y/n)?y\n",
            "Yay, another round\n",
            "Should we loop again (y/n)?y\n",
            "Yay, another round\n",
            "Should we loop again (y/n)?y\n",
            "Yay, another round\n",
            "Should we loop again (y/n)?n\n",
            "\n",
            "We're done here.\n"
          ],
          "name": "stdout"
        }
      ]
    }
  ]
}